{
 "cells": [
  {
   "cell_type": "code",
   "execution_count": 9,
   "id": "2f16c19c",
   "metadata": {},
   "outputs": [],
   "source": [
    "#IMAGE PREPROCESSING\n",
    "from keras.preprocessing.image import ImageDataGenerator\n"
   ]
  },
  {
   "cell_type": "code",
   "execution_count": 10,
   "id": "48e9c580",
   "metadata": {},
   "outputs": [],
   "source": [
    "train_datagen=ImageDataGenerator(rescale=1./255,shear_range=0.2,zoom_range=0.2,horizontal_flip=True)\n",
    "test_datagen=ImageDataGenerator(rescale=1./255)"
   ]
  },
  {
   "cell_type": "code",
   "execution_count": 11,
   "id": "c23f8523",
   "metadata": {},
   "outputs": [
    {
     "name": "stdout",
     "output_type": "stream",
     "text": [
      "Found 2626 images belonging to 5 classes.\n",
      "Found 1055 images belonging to 5 classes.\n"
     ]
    }
   ],
   "source": [
    "x_train=train_datagen.flow_from_directory(r'C:\\Users\\CHRYSOLITE\\Desktop\\internship\\Dataset\\TRAIN_SET',target_size=(64,64),batch_size=5,color_mode='rgb',class_mode='sparse')\n",
    "x_test = train_datagen.flow_from_directory(r'C:\\Users\\CHRYSOLITE\\Desktop\\internship\\Dataset\\TEST_SET',target_size=(64,64),batch_size=5,color_mode='rgb',class_mode='sparse')"
   ]
  },
  {
   "cell_type": "code",
   "execution_count": 12,
   "id": "2a4d5d0f",
   "metadata": {},
   "outputs": [
    {
     "name": "stdout",
     "output_type": "stream",
     "text": [
      "{'APPLES': 0, 'BANANA': 1, 'ORANGE': 2, 'PINEAPPLE': 3, 'WATERMELON': 4}\n"
     ]
    }
   ],
   "source": [
    "print(x_train.class_indices)"
   ]
  },
  {
   "cell_type": "code",
   "execution_count": 13,
   "id": "f05cf8b4",
   "metadata": {},
   "outputs": [
    {
     "name": "stdout",
     "output_type": "stream",
     "text": [
      "{'APPLES': 0, 'BANANA': 1, 'ORANGE': 2, 'PINEAPPLE': 3, 'WATERMELON': 4}\n"
     ]
    }
   ],
   "source": [
    "print(x_test.class_indices)"
   ]
  },
  {
   "cell_type": "code",
   "execution_count": 14,
   "id": "a2190682",
   "metadata": {},
   "outputs": [
    {
     "data": {
      "text/plain": [
       "Counter({0: 606, 1: 445, 2: 479, 3: 621, 4: 475})"
      ]
     },
     "execution_count": 14,
     "metadata": {},
     "output_type": "execute_result"
    }
   ],
   "source": [
    "from collections import Counter as c\n",
    "c(x_train.labels)"
   ]
  },
  {
   "cell_type": "code",
   "execution_count": 15,
   "id": "8164eb09",
   "metadata": {},
   "outputs": [],
   "source": [
    "#MODEL BUILDING\n",
    "import numpy as np\n",
    "import tensorflow\n",
    "from tensorflow.keras.models import Sequential\n",
    "from tensorflow.keras import layers\n",
    "from tensorflow.keras.layers import Dense,Flatten\n",
    "from tensorflow.keras.layers import Conv2D,MaxPooling2D,Dropout\n",
    "from keras.preprocessing.image import ImageDataGenerator"
   ]
  },
  {
   "cell_type": "code",
   "execution_count": 16,
   "id": "b87a56f6",
   "metadata": {},
   "outputs": [],
   "source": [
    "model=Sequential()"
   ]
  },
  {
   "cell_type": "code",
   "execution_count": 17,
   "id": "d4b0743f",
   "metadata": {},
   "outputs": [],
   "source": [
    "classifier=Sequential()"
   ]
  },
  {
   "cell_type": "code",
   "execution_count": 18,
   "id": "658b9dc5",
   "metadata": {},
   "outputs": [],
   "source": [
    "classifier.add(Conv2D(32,(3,3),input_shape=(64,64,3),activation='relu'))\n",
    "classifier.add(MaxPooling2D(pool_size=(2,2)))"
   ]
  },
  {
   "cell_type": "code",
   "execution_count": 19,
   "id": "54402695",
   "metadata": {},
   "outputs": [],
   "source": [
    "classifier.add(Conv2D(32,(3,3),activation='relu'))"
   ]
  },
  {
   "cell_type": "code",
   "execution_count": 20,
   "id": "addfb97c",
   "metadata": {},
   "outputs": [],
   "source": [
    "classifier.add(MaxPooling2D(pool_size=(2,2)))"
   ]
  },
  {
   "cell_type": "code",
   "execution_count": 21,
   "id": "78d2b716",
   "metadata": {},
   "outputs": [],
   "source": [
    "classifier.add(Flatten())"
   ]
  },
  {
   "cell_type": "code",
   "execution_count": 22,
   "id": "855a810c",
   "metadata": {},
   "outputs": [],
   "source": [
    "classifier.add(Dense(units=128,activation='relu'))\n",
    "classifier.add(Dense(units=5,activation='softmax'))"
   ]
  },
  {
   "cell_type": "code",
   "execution_count": 23,
   "id": "f21a7856",
   "metadata": {},
   "outputs": [
    {
     "name": "stdout",
     "output_type": "stream",
     "text": [
      "Model: \"sequential_1\"\n",
      "_________________________________________________________________\n",
      "Layer (type)                 Output Shape              Param #   \n",
      "=================================================================\n",
      "conv2d (Conv2D)              (None, 62, 62, 32)        896       \n",
      "_________________________________________________________________\n",
      "max_pooling2d (MaxPooling2D) (None, 31, 31, 32)        0         \n",
      "_________________________________________________________________\n",
      "conv2d_1 (Conv2D)            (None, 29, 29, 32)        9248      \n",
      "_________________________________________________________________\n",
      "max_pooling2d_1 (MaxPooling2 (None, 14, 14, 32)        0         \n",
      "_________________________________________________________________\n",
      "flatten (Flatten)            (None, 6272)              0         \n",
      "_________________________________________________________________\n",
      "dense (Dense)                (None, 128)               802944    \n",
      "_________________________________________________________________\n",
      "dense_1 (Dense)              (None, 5)                 645       \n",
      "=================================================================\n",
      "Total params: 813,733\n",
      "Trainable params: 813,733\n",
      "Non-trainable params: 0\n",
      "_________________________________________________________________\n"
     ]
    }
   ],
   "source": [
    "classifier.summary()"
   ]
  },
  {
   "cell_type": "code",
   "execution_count": 24,
   "id": "fbfa6206",
   "metadata": {},
   "outputs": [],
   "source": [
    "classifier.compile(optimizer='adam',loss='sparse_categorical_crossentropy',metrics=['accuracy'])"
   ]
  },
  {
   "cell_type": "code",
   "execution_count": 25,
   "id": "7e9f6765",
   "metadata": {},
   "outputs": [
    {
     "name": "stderr",
     "output_type": "stream",
     "text": [
      "C:\\anaconda\\lib\\site-packages\\tensorflow\\python\\keras\\engine\\training.py:1935: UserWarning: `Model.fit_generator` is deprecated and will be removed in a future version. Please use `Model.fit`, which supports generators.\n",
      "  warnings.warn('`Model.fit_generator` is deprecated and '\n"
     ]
    },
    {
     "name": "stdout",
     "output_type": "stream",
     "text": [
      "Epoch 1/20\n",
      "526/526 [==============================] - 44s 83ms/step - loss: 0.1805 - accuracy: 0.9315 - val_loss: 0.0317 - val_accuracy: 0.9905\n",
      "Epoch 2/20\n",
      "526/526 [==============================] - 16s 31ms/step - loss: 0.0121 - accuracy: 0.9950 - val_loss: 0.0383 - val_accuracy: 0.9782\n",
      "Epoch 3/20\n",
      "526/526 [==============================] - 17s 33ms/step - loss: 1.5899e-04 - accuracy: 1.0000 - val_loss: 0.0198 - val_accuracy: 0.9896\n",
      "Epoch 4/20\n",
      "526/526 [==============================] - 15s 28ms/step - loss: 6.7813e-05 - accuracy: 1.0000 - val_loss: 0.0264 - val_accuracy: 0.9896\n",
      "Epoch 5/20\n",
      "526/526 [==============================] - 15s 28ms/step - loss: 2.8432e-05 - accuracy: 1.0000 - val_loss: 0.0201 - val_accuracy: 0.9886\n",
      "Epoch 6/20\n",
      "526/526 [==============================] - 15s 28ms/step - loss: 7.3718e-05 - accuracy: 1.0000 - val_loss: 0.0060 - val_accuracy: 0.9972\n",
      "Epoch 7/20\n",
      "526/526 [==============================] - 15s 28ms/step - loss: 1.6485e-05 - accuracy: 1.0000 - val_loss: 0.0076 - val_accuracy: 0.9962\n",
      "Epoch 8/20\n",
      "526/526 [==============================] - 15s 29ms/step - loss: 1.6596e-05 - accuracy: 1.0000 - val_loss: 0.0078 - val_accuracy: 0.9962\n",
      "Epoch 9/20\n",
      "526/526 [==============================] - 15s 29ms/step - loss: 6.2442e-06 - accuracy: 1.0000 - val_loss: 0.0114 - val_accuracy: 0.9953\n",
      "Epoch 10/20\n",
      "526/526 [==============================] - 15s 28ms/step - loss: 6.1337e-06 - accuracy: 1.0000 - val_loss: 0.0409 - val_accuracy: 0.9810\n",
      "Epoch 11/20\n",
      "526/526 [==============================] - 15s 28ms/step - loss: 5.2832e-06 - accuracy: 1.0000 - val_loss: 0.0090 - val_accuracy: 0.9962\n",
      "Epoch 12/20\n",
      "526/526 [==============================] - 15s 29ms/step - loss: 1.9724e-06 - accuracy: 1.0000 - val_loss: 0.0190 - val_accuracy: 0.9924\n",
      "Epoch 13/20\n",
      "526/526 [==============================] - 15s 28ms/step - loss: 1.7291e-06 - accuracy: 1.0000 - val_loss: 0.0187 - val_accuracy: 0.9905\n",
      "Epoch 14/20\n",
      "526/526 [==============================] - 15s 28ms/step - loss: 1.4198e-06 - accuracy: 1.0000 - val_loss: 0.0166 - val_accuracy: 0.9943\n",
      "Epoch 15/20\n",
      "526/526 [==============================] - 15s 28ms/step - loss: 1.5914e-06 - accuracy: 1.0000 - val_loss: 0.0080 - val_accuracy: 0.9962\n",
      "Epoch 16/20\n",
      "526/526 [==============================] - 15s 28ms/step - loss: 1.2773e-06 - accuracy: 1.0000 - val_loss: 0.0173 - val_accuracy: 0.9915\n",
      "Epoch 17/20\n",
      "526/526 [==============================] - 15s 28ms/step - loss: 5.8723e-07 - accuracy: 1.0000 - val_loss: 0.0217 - val_accuracy: 0.9915\n",
      "Epoch 18/20\n",
      "526/526 [==============================] - 15s 28ms/step - loss: 6.3503e-07 - accuracy: 1.0000 - val_loss: 0.0107 - val_accuracy: 0.9962\n",
      "Epoch 19/20\n",
      "526/526 [==============================] - 15s 29ms/step - loss: 3.5431e-07 - accuracy: 1.0000 - val_loss: 0.0139 - val_accuracy: 0.9934\n",
      "Epoch 20/20\n",
      "526/526 [==============================] - 16s 30ms/step - loss: 5.7487e-07 - accuracy: 1.0000 - val_loss: 0.0201 - val_accuracy: 0.9924\n"
     ]
    },
    {
     "data": {
      "text/plain": [
       "<tensorflow.python.keras.callbacks.History at 0x2182a93edf0>"
      ]
     },
     "execution_count": 25,
     "metadata": {},
     "output_type": "execute_result"
    }
   ],
   "source": [
    "classifier.fit_generator(generator=x_train,steps_per_epoch=len(x_train),epochs=20,validation_data=x_test,validation_steps=len(x_test))"
   ]
  },
  {
   "cell_type": "code",
   "execution_count": 26,
   "id": "8d87cb60",
   "metadata": {},
   "outputs": [],
   "source": [
    "classifier.save('nutrition.h5')"
   ]
  },
  {
   "cell_type": "code",
   "execution_count": 27,
   "id": "0fb8a536",
   "metadata": {},
   "outputs": [],
   "source": [
    "from tensorflow.keras.models import load_model\n",
    "from keras.preprocessing import image\n",
    "model=load_model(\"nutrition.h5\")"
   ]
  },
  {
   "cell_type": "code",
   "execution_count": 28,
   "id": "af8d8087",
   "metadata": {},
   "outputs": [
    {
     "name": "stderr",
     "output_type": "stream",
     "text": [
      "C:\\anaconda\\lib\\site-packages\\tensorflow\\python\\keras\\engine\\sequential.py:455: UserWarning: `model.predict_classes()` is deprecated and will be removed after 2021-01-01. Please use instead:* `np.argmax(model.predict(x), axis=-1)`,   if your model does multi-class classification   (e.g. if it uses a `softmax` last-layer activation).* `(model.predict(x) > 0.5).astype(\"int32\")`,   if your model does binary classification   (e.g. if it uses a `sigmoid` last-layer activation).\n",
      "  warnings.warn('`model.predict_classes()` is deprecated and '\n"
     ]
    },
    {
     "data": {
      "text/plain": [
       "array([0], dtype=int64)"
      ]
     },
     "execution_count": 28,
     "metadata": {},
     "output_type": "execute_result"
    }
   ],
   "source": [
    "img=image.load_img(r\"C:\\Users\\CHRYSOLITE\\Desktop\\internship\\Dataset\\TEST_SET\\APPLES\\5_100.jpg\",grayscale=False,target_size=(64,64))\n",
    "x=image.img_to_array(img)\n",
    "x=np.expand_dims(x,axis=0)\n",
    "pred=model.predict_classes(x)\n",
    "pred"
   ]
  },
  {
   "cell_type": "code",
   "execution_count": 29,
   "id": "f4b819f4",
   "metadata": {},
   "outputs": [
    {
     "data": {
      "text/plain": [
       "'APPLES'"
      ]
     },
     "execution_count": 29,
     "metadata": {},
     "output_type": "execute_result"
    }
   ],
   "source": [
    "index=['APPLES','BANANA','ORANGE','PINEAPPLE','WATERMELON']\n",
    "result=str(index[pred[0]])\n",
    "result"
   ]
  },
  {
   "cell_type": "code",
   "execution_count": null,
   "id": "a1d1ac54",
   "metadata": {},
   "outputs": [],
   "source": []
  }
 ],
 "metadata": {
  "kernelspec": {
   "display_name": "Python 3 (ipykernel)",
   "language": "python",
   "name": "python3"
  },
  "language_info": {
   "codemirror_mode": {
    "name": "ipython",
    "version": 3
   },
   "file_extension": ".py",
   "mimetype": "text/x-python",
   "name": "python",
   "nbconvert_exporter": "python",
   "pygments_lexer": "ipython3",
   "version": "3.9.7"
  }
 },
 "nbformat": 4,
 "nbformat_minor": 5
}
